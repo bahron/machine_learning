{
  "nbformat": 4,
  "nbformat_minor": 0,
  "metadata": {
    "colab": {
      "provenance": [],
      "collapsed_sections": [],
      "authorship_tag": "ABX9TyOFl4QR1eLP/ms1T0vK4P31",
      "include_colab_link": true
    },
    "kernelspec": {
      "name": "python3",
      "display_name": "Python 3"
    },
    "language_info": {
      "name": "python"
    }
  },
  "cells": [
    {
      "cell_type": "markdown",
      "metadata": {
        "id": "view-in-github",
        "colab_type": "text"
      },
      "source": [
        "<a href=\"https://colab.research.google.com/github/bahron/machine_learning/blob/main/Front_View_Car.ipynb\" target=\"_parent\"><img src=\"https://colab.research.google.com/assets/colab-badge.svg\" alt=\"Open In Colab\"/></a>"
      ]
    },
    {
      "cell_type": "markdown",
      "source": [
        "#**Image Clasification - Front View Car**\n",
        "**Menggunakan Dataset dari kaggle**\n",
        "\n",
        "Link : https://www.kaggle.com/datasets/sadratmh/front-view-cars"
      ],
      "metadata": {
        "id": "5-Qm9f1AZEI3"
      }
    },
    {
      "cell_type": "markdown",
      "source": [
        "**Mempersiapkan Dataset**\n",
        "\n",
        "Downloan data dari kaggle"
      ],
      "metadata": {
        "id": "qFa_FE85Zigl"
      }
    },
    {
      "cell_type": "code",
      "execution_count": 21,
      "metadata": {
        "colab": {
          "base_uri": "https://localhost:8080/"
        },
        "id": "rtfUNjJ_Y_vF",
        "outputId": "f4578c3d-71e7-47da-d6ed-e612d15377c5"
      },
      "outputs": [
        {
          "output_type": "stream",
          "name": "stdout",
          "text": [
            "--2022-11-06 07:33:39--  https://github.com/bahron/machine_learning/raw/e1f3cca1764ab1a8f7c457a54017b384bdbe3dfb/frontviewcar.zip\n",
            "Resolving github.com (github.com)... 140.82.112.4\n",
            "Connecting to github.com (github.com)|140.82.112.4|:443... connected.\n",
            "HTTP request sent, awaiting response... 302 Found\n",
            "Location: https://raw.githubusercontent.com/bahron/machine_learning/e1f3cca1764ab1a8f7c457a54017b384bdbe3dfb/frontviewcar.zip [following]\n",
            "--2022-11-06 07:33:39--  https://raw.githubusercontent.com/bahron/machine_learning/e1f3cca1764ab1a8f7c457a54017b384bdbe3dfb/frontviewcar.zip\n",
            "Resolving raw.githubusercontent.com (raw.githubusercontent.com)... 185.199.109.133, 185.199.111.133, 185.199.108.133, ...\n",
            "Connecting to raw.githubusercontent.com (raw.githubusercontent.com)|185.199.109.133|:443... connected.\n",
            "HTTP request sent, awaiting response... 200 OK\n",
            "Length: 17595909 (17M) [application/zip]\n",
            "Saving to: ‘/content/front-view-car.zip’\n",
            "\n",
            "/content/front-view 100%[===================>]  16.78M  --.-KB/s    in 0.1s    \n",
            "\n",
            "2022-11-06 07:33:40 (137 MB/s) - ‘/content/front-view-car.zip’ saved [17595909/17595909]\n",
            "\n"
          ]
        }
      ],
      "source": [
        "!wget --no-check-certificate \\\n",
        "    https://github.com/bahron/machine_learning/raw/e1f3cca1764ab1a8f7c457a54017b384bdbe3dfb/frontviewcar.zip \\\n",
        "  -O '/content/front-view-car.zip'"
      ]
    },
    {
      "cell_type": "markdown",
      "source": [
        "**Ekstrak zip file**"
      ],
      "metadata": {
        "id": "fjThUATjagVU"
      }
    },
    {
      "cell_type": "code",
      "source": [
        "import os, zipfile\n",
        "\n",
        "local_zip = '/content/front-view-car.zip'\n",
        "zip_ref = zipfile.ZipFile(local_zip, 'r')\n",
        "zip_ref.extractall('/content')\n",
        "zip_ref.close\n"
      ],
      "metadata": {
        "colab": {
          "base_uri": "https://localhost:8080/"
        },
        "id": "FcNfyRpWamtc",
        "outputId": "4b1178a6-fc70-46e8-9dee-67a6c5a0d67d"
      },
      "execution_count": 22,
      "outputs": [
        {
          "output_type": "execute_result",
          "data": {
            "text/plain": [
              "<bound method ZipFile.close of <zipfile.ZipFile filename='/content/front-view-car.zip' mode='r'>>"
            ]
          },
          "metadata": {},
          "execution_count": 22
        }
      ]
    }
  ]
}