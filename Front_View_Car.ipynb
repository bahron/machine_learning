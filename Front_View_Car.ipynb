{
  "nbformat": 4,
  "nbformat_minor": 0,
  "metadata": {
    "colab": {
      "provenance": [],
      "collapsed_sections": [],
      "authorship_tag": "ABX9TyPCHreHJIgx0u5aemyaP4Et",
      "include_colab_link": true
    },
    "kernelspec": {
      "name": "python3",
      "display_name": "Python 3"
    },
    "language_info": {
      "name": "python"
    }
  },
  "cells": [
    {
      "cell_type": "markdown",
      "metadata": {
        "id": "view-in-github",
        "colab_type": "text"
      },
      "source": [
        "<a href=\"https://colab.research.google.com/github/bahron/machine_learning/blob/main/Front_View_Car.ipynb\" target=\"_parent\"><img src=\"https://colab.research.google.com/assets/colab-badge.svg\" alt=\"Open In Colab\"/></a>"
      ]
    },
    {
      "cell_type": "markdown",
      "source": [
        "#**Image Clasification - Front View Car**\n",
        "**Menggunakan Dataset dari kaggle**\n",
        "\n",
        "Link : https://www.kaggle.com/datasets/sadratmh/front-view-cars"
      ],
      "metadata": {
        "id": "5-Qm9f1AZEI3"
      }
    },
    {
      "cell_type": "markdown",
      "source": [
        "**Mempersiapkan Dataset**\n",
        "\n",
        "Downloan data dari kaggle"
      ],
      "metadata": {
        "id": "qFa_FE85Zigl"
      }
    },
    {
      "cell_type": "code",
      "execution_count": null,
      "metadata": {
        "id": "rtfUNjJ_Y_vF"
      },
      "outputs": [],
      "source": [
        "!wget --no-check-certificate \\\n",
        "    https://github.com/bahron/machine_learning/raw/e1f3cca1764ab1a8f7c457a54017b384bdbe3dfb/frontviewcar.zip \\\n",
        "  -O '/content/front-view-car.zip'"
      ]
    },
    {
      "cell_type": "markdown",
      "source": [
        "**Ekstrak zip file**"
      ],
      "metadata": {
        "id": "fjThUATjagVU"
      }
    },
    {
      "cell_type": "code",
      "source": [
        "import os, zipfile\n",
        "\n",
        "local_zip = '/content/front-view-car.zip'\n",
        "zip_ref = zipfile.ZipFile(local_zip, 'r')\n",
        "zip_ref.extractall('/content')\n",
        "zip_ref.close\n"
      ],
      "metadata": {
        "id": "FcNfyRpWamtc"
      },
      "execution_count": null,
      "outputs": []
    },
    {
      "cell_type": "code",
      "source": [
        "base_dir = '/content/data'\n",
        "validation_dir = os.path.join(base_dir, 'val')\n",
        "train_dir = os.path.join(base_dir, 'train')\n",
        "bmw_dir = os.path.join(base_dir,'BMW')\n",
        "ferrari_dir = os.path.join(base_dir, 'Ferrari')\n",
        "lamborghini_dir = os.path.join(base_dir, 'Lamborghini')"
      ],
      "metadata": {
        "id": "IJ2krVIc-Vgx"
      },
      "execution_count": null,
      "outputs": []
    },
    {
      "cell_type": "code",
      "source": [
        "train_BMW = os.path.join(train_dir, 'BMW')\n",
        "train_Ferrari = os.path.join(train_dir, 'Ferrari')\n",
        "train_Lamborghini = os.path.join(train_dir, 'Lamborghini')\n",
        "val_BMW = os.path.join(validation_dir, 'BMW')\n",
        "val_Ferrrari = os.path.join(validation_dir, 'Ferrari')\n",
        "val_Lamborgini = os.path.join(validation_dir, 'Lamborghini')"
      ],
      "metadata": {
        "id": "Pj0SBrc-_NHX"
      },
      "execution_count": null,
      "outputs": []
    },
    {
      "cell_type": "code",
      "source": [
        "os.listdir('/content/data/train')"
      ],
      "metadata": {
        "id": "W7O3W6BwAlZW"
      },
      "execution_count": null,
      "outputs": []
    },
    {
      "cell_type": "code",
      "source": [
        "os.listdir('/content/data/val')"
      ],
      "metadata": {
        "id": "4EtfMjBFBJ8v"
      },
      "execution_count": null,
      "outputs": []
    },
    {
      "cell_type": "markdown",
      "source": [
        "##**Mempersiapkan image data validasi dan train**"
      ],
      "metadata": {
        "id": "vJyuHizJBR_J"
      }
    },
    {
      "cell_type": "markdown",
      "source": [
        "**Mempersiapkan variabel global untuk data training**"
      ],
      "metadata": {
        "id": "RacHUPvsCK7f"
      }
    },
    {
      "cell_type": "code",
      "source": [
        "# Parameter input\n",
        "target = (150, 150)           # mengubah resolusi seluruh gambar menjadi 150x150 piksel\n",
        "channel = (3, )\n",
        "input_shape = target + channel\n",
        "# Batch size\n",
        "batch_size = 16               # banyaknya citra yang dimasukan dalam setiap steps training\n",
        "# Epoch\n",
        "epoch = 10"
      ],
      "metadata": {
        "id": "vGbQvbjuCI7v"
      },
      "execution_count": null,
      "outputs": []
    },
    {
      "cell_type": "markdown",
      "source": [
        "**Augmentasi image**"
      ],
      "metadata": {
        "id": "QiTRGsbgEt27"
      }
    },
    {
      "cell_type": "code",
      "source": [
        "from tensorflow.keras.preprocessing.image import ImageDataGenerator\n",
        " \n",
        "train_datagen = ImageDataGenerator(\n",
        "                    rescale=1./255,\n",
        "                    rotation_range=20,\n",
        "                    horizontal_flip=True,\n",
        "                    shear_range = 0.2,\n",
        "                    fill_mode = 'nearest')\n",
        "\n",
        "test_datagen = ImageDataGenerator(\n",
        "                    rescale=1./255)"
      ],
      "metadata": {
        "id": "7BOoP5XREtgO"
      },
      "execution_count": null,
      "outputs": []
    },
    {
      "cell_type": "markdown",
      "source": [
        "**Mempersiapkan data train dan validasi melalui fungsi flow()**"
      ],
      "metadata": {
        "id": "3p_8huTyFNo6"
      }
    },
    {
      "cell_type": "code",
      "source": [
        "train_generator = train_datagen.flow_from_directory(\n",
        "        train_dir,                            # direktori data latih\n",
        "        target_size= target,                  # mengubah resolusi seluruh gambar menjadi 150x150 piksel\n",
        "        batch_size= batch_size,\n",
        "        subset='training',\n",
        "        shuffle=True,  \n",
        "        class_mode='categorical'              # karena ini merupakan masalah klasifikasi lebih dari 2 kelas, gunakan class_mode = 'categorical'\n",
        "        )\n",
        " \n",
        "validation_generator = test_datagen.flow_from_directory(\n",
        "        validation_dir,                       # direktori data validasi\n",
        "        target_size= target ,                 # mengubah resolusi seluruh gambar menjadi 150x150 piksel\n",
        "        batch_size= batch_size,               \n",
        "#        subset = 'validation',  \n",
        "        shuffle = True,\n",
        "        class_mode='categorical'              # karena ini merupakan masalah klasifikasi lebih dari 2 kelas gunakan class_mode = 'categorical'\n",
        "        )"
      ],
      "metadata": {
        "colab": {
          "base_uri": "https://localhost:8080/"
        },
        "id": "uP8NyVjRFbFQ",
        "outputId": "c6d261ab-7ae8-43e5-f69a-21b8961c8120"
      },
      "execution_count": null,
      "outputs": [
        {
          "output_type": "stream",
          "name": "stdout",
          "text": [
            "Found 59 images belonging to 3 classes.\n",
            "Found 15 images belonging to 3 classes.\n"
          ]
        }
      ]
    },
    {
      "cell_type": "code",
      "source": [
        "train_generator.class_indices"
      ],
      "metadata": {
        "colab": {
          "base_uri": "https://localhost:8080/"
        },
        "id": "dwNt6qRomRla",
        "outputId": "08a51629-ec67-45ff-dd3c-7c3d350f95f5"
      },
      "execution_count": null,
      "outputs": [
        {
          "output_type": "execute_result",
          "data": {
            "text/plain": [
              "{'BMW': 0, 'Ferrari': 1, 'Lamborghini': 2}"
            ]
          },
          "metadata": {},
          "execution_count": 72
        }
      ]
    },
    {
      "cell_type": "code",
      "source": [
        "validation_generator.class_indices"
      ],
      "metadata": {
        "colab": {
          "base_uri": "https://localhost:8080/"
        },
        "id": "f51icpJ4mYpT",
        "outputId": "e0468d69-4391-4675-8e9d-5753a47e6ac4"
      },
      "execution_count": null,
      "outputs": [
        {
          "output_type": "execute_result",
          "data": {
            "text/plain": [
              "{'BMW': 0, 'Ferrari': 1, 'Lamborghini': 2}"
            ]
          },
          "metadata": {},
          "execution_count": 73
        }
      ]
    },
    {
      "cell_type": "code",
      "source": [
        "import tensorflow as tf\n",
        "from sklearn.model_selection import train_test_split\n",
        "\n",
        "model = tf.keras.models.Sequential([                                              #Membentuk model sequential\n",
        "                                                                                  #Bentuk input adalah gambar dengan ukuran 150x150 dengan 3 byte warna\n",
        "    tf.keras.layers.Conv2D(16, (3,3), activation='relu', input_shape=(150, 150, 3)), #Layer Konvolusi pertama\n",
        "    tf.keras.layers.MaxPooling2D(2, 2),\n",
        "    \n",
        "    tf.keras.layers.Conv2D(32, (3,3), activation='relu'),                         #Layer Konvolusi kedua\n",
        "    tf.keras.layers.MaxPooling2D(2,2), \n",
        "    \n",
        "    tf.keras.layers.Conv2D(32, (3,3), activation='relu'),                         #Layer Konvolusi ketiga\n",
        "    tf.keras.layers.MaxPooling2D(2,2),\n",
        "    \n",
        "    tf.keras.layers.Flatten(),                                                    #Layer input untuk Deep Learning Neural Network\n",
        "    tf.keras.layers.Dropout(0.5),\n",
        "    \n",
        "    tf.keras.layers.Dense(128, activation='relu'),                                #Hiden layer pertama dengan 512 neuron\n",
        "    \n",
        "    tf.keras.layers.Dense(512, activation='relu'),                                #Hiden layer kedua dengan 512 neuron\n",
        "    \n",
        "    tf.keras.layers.Dense(3, activation='softmax')                                #Layer output\n",
        "])\n",
        "\n",
        "model.summary()  "
      ],
      "metadata": {
        "id": "qfh4xs1ImD7j"
      },
      "execution_count": null,
      "outputs": []
    },
    {
      "cell_type": "code",
      "source": [
        "model.compile(optimizer = 'RMSprop',\n",
        "              loss = 'categorical_crossentropy',\n",
        "              metrics = ['accuracy'])"
      ],
      "metadata": {
        "id": "KZGIX-i8nbn-"
      },
      "execution_count": null,
      "outputs": []
    },
    {
      "cell_type": "code",
      "source": [
        "history = model.fit(\n",
        "    train_generator,\n",
        "    steps_per_epoch = 41, # 1312 images = batch_size * steps\n",
        "    epochs = 20,\n",
        "    validation_data = validation_generator,\n",
        "    validation_steps = 27, # 876 images = batch_size * steps\n",
        "    verbose =2,\n",
        ")"
      ],
      "metadata": {
        "id": "Xc8hAvxmm2gO"
      },
      "execution_count": null,
      "outputs": []
    },
    {
      "cell_type": "code",
      "source": [],
      "metadata": {
        "id": "dbBqaXYcniIK"
      },
      "execution_count": null,
      "outputs": []
    }
  ]
}